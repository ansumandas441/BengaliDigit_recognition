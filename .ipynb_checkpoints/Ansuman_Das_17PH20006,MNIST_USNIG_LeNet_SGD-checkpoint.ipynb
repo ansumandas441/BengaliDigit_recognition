{
 "cells": [
  {
   "cell_type": "markdown",
   "metadata": {},
   "source": [
    "Ansuman Das\n",
    "17PH20006"
   ]
  },
  {
   "cell_type": "code",
   "execution_count": 1,
   "metadata": {},
   "outputs": [],
   "source": [
    "#Importing libraries\n",
    "%matplotlib inline\n",
    "import torch\n",
    "import numpy as np\n",
    "import torch.nn as nn\n",
    "import torch.nn.functional as F\n",
    "import matplotlib.pyplot as plt\n",
    "from torchvision import transforms, datasets\n",
    "import torch.optim as optim"
   ]
  },
  {
   "cell_type": "code",
   "execution_count": 2,
   "metadata": {},
   "outputs": [],
   "source": [
    "def data(Batch):\n",
    "    #Loading Datasets\n",
    "    do_transform=transforms.Compose([transforms.ToTensor()])\n",
    "    Batch_size=Batch\n",
    "#Training data\n",
    "    trainset=datasets.MNIST(root=\"./MNIST\",train=True,download=True,transform=do_transform)\n",
    "    train_dataloader=torch.utils.data.DataLoader(trainset,batch_size=Batch_size,shuffle=True,num_workers=4,)\n",
    "#Test Data\n",
    "    testset=datasets.MNIST(root=\"./MNIST\",train=False,download=True,transform=do_transform)\n",
    "    test_dataloader=torch.utils.data.DataLoader(testset,batch_size=Batch_size,shuffle=True,num_workers=4,)\n",
    "#size of trining and test set\n",
    "#    print(\"Number of training example is ;\"+str(len(train_dataloader.dataset)))\n",
    "#    print(\"Number of test example is ;\"+str(len(test_dataloader.dataset)))\n",
    "    return train_dataloader,test_dataloader"
   ]
  },
  {
   "cell_type": "code",
   "execution_count": 3,
   "metadata": {},
   "outputs": [],
   "source": [
    "class MyLeNet(nn.Module):\n",
    "    def __init__(self):      \n",
    "        super(MyLeNet, self).__init__()     \n",
    "        self.conv1 = nn.Conv2d(1, 6, kernel_size=5)     #output_size=batch_size*1*24*24\n",
    "        self.pool1 = nn.MaxPool2d(kernel_size=2,stride=2)      #output_size=batch_size*1*12*12 \n",
    "        self.conv2 = nn.Conv2d(6, 16, kernel_size=5)           #output_size=batch_size*16*8*8\n",
    "        self.pool2 = nn.MaxPool2d(kernel_size=2,stride=2)         #output_size=batch_size*16*4*4\n",
    "        self.fc1 = nn.Linear(256, 120)\n",
    "        self.fc2 = nn.Linear(120, 84)\n",
    "        self.fc3 = nn.Linear(84, 10)\n",
    "    \n",
    "        \n",
    "\n",
    "    def forward(self, x):\n",
    "        x = F.relu(self.conv1(x))\n",
    "        x = self.pool1(x)\n",
    "        x = F.relu(self.conv2(x))\n",
    "        x = self.pool2(x)\n",
    "        x = x.view(-1, 256)\n",
    "        x = F.relu(self.fc1(x)) \n",
    "        x = F.relu(self.fc2(x))\n",
    "        x = self.fc3(x)\n",
    "        x = F.log_softmax(x,dim=1)\n",
    "        return x"
   ]
  },
  {
   "cell_type": "code",
   "execution_count": 4,
   "metadata": {},
   "outputs": [],
   "source": [
    "torch.cuda.empty_cache()\n",
    "torch.cuda.reset_max_memory_allocated(device=None)\n",
    "torch.cuda.reset_max_memory_cached(device=None)"
   ]
  },
  {
   "cell_type": "code",
   "execution_count": 5,
   "metadata": {},
   "outputs": [
    {
     "name": "stdout",
     "output_type": "stream",
     "text": [
      "MyLeNet(\n",
      "  (conv1): Conv2d(1, 6, kernel_size=(5, 5), stride=(1, 1))\n",
      "  (pool1): MaxPool2d(kernel_size=2, stride=2, padding=0, dilation=1, ceil_mode=False)\n",
      "  (conv2): Conv2d(6, 16, kernel_size=(5, 5), stride=(1, 1))\n",
      "  (pool2): MaxPool2d(kernel_size=2, stride=2, padding=0, dilation=1, ceil_mode=False)\n",
      "  (fc1): Linear(in_features=256, out_features=120, bias=True)\n",
      "  (fc2): Linear(in_features=120, out_features=84, bias=True)\n",
      "  (fc3): Linear(in_features=84, out_features=10, bias=True)\n",
      ")\n",
      "Cuda is available\n"
     ]
    }
   ],
   "source": [
    "gpu=torch.cuda.is_available()\n",
    "net=MyLeNet()\n",
    "print(net)\n",
    "if gpu:\n",
    "    print(\"Cuda is available\")\n",
    "    net=net.cuda()"
   ]
  },
  {
   "cell_type": "code",
   "execution_count": 6,
   "metadata": {},
   "outputs": [],
   "source": [
    "#Optimizing using SGD"
   ]
  },
  {
   "cell_type": "code",
   "execution_count": 7,
   "metadata": {},
   "outputs": [],
   "source": [
    "def Mynet_Adam(train_dataloader,Learning_rate,epochs,Batch_size):\n",
    "    \n",
    "    net=MyLeNet()\n",
    "    net=net.cuda()\n",
    "    torch.cuda.empty_cache()\n",
    "    torch.cuda.reset_max_memory_allocated(device=None)\n",
    "    torch.cuda.reset_max_memory_cached(device=None)\n",
    "    \n",
    "    criteria=nn.CrossEntropyLoss()  #nn.BCELoss()  may be used\n",
    "    learning_rate=Learning_rate\n",
    "    num_epochs=epochs\n",
    "    model_loss=[]\n",
    "    model_acc=[]\n",
    "#    train_dataloader,test_dataloader=data(Batch_size)\n",
    "\n",
    "    optimizer = optim.SGD(net.parameters(), lr=learning_rate, momentum=0.9)\n",
    "\n",
    "    for epoch in range(num_epochs):\n",
    "        temp_loss=0.0\n",
    "        temp_acc=0.0\n",
    "        for i,data in enumerate(train_dataloader):\n",
    "            inputs,labels=data\n",
    "            if gpu:\n",
    "                inputs,labels=inputs.cuda(),labels.cuda()          \n",
    "            optimizer.zero_grad()\n",
    "            outputs = net(inputs)\n",
    "#       print(inputs.shape)\n",
    "#       print(outputs.shape)\n",
    "            preds=torch.argmax(outputs,dim=1)\n",
    "            loss=criteria(outputs,labels)        \n",
    "            temp_loss+=loss.item()    #saving loss values in the loop\n",
    "            temp_acc+=torch.sum(preds==labels)\n",
    "            loss.backward()\n",
    "    \n",
    "            optimizer.step()   #optimisation step\n",
    "    \n",
    "    \n",
    "   \n",
    "    \n",
    "    \n",
    "        \n",
    "        epoch_loss = temp_loss/(i+1)   #Total loss for one epoch\n",
    "        epoch_acc = temp_acc.item()/60000.0\n",
    "    \n",
    "    \n",
    "         \n",
    "        model_loss.append(epoch_loss) #Saving the loss over epochs for plotting the graph\n",
    "        model_acc.append(epoch_acc) #Saving the accuracy over epochs for plotting the graph\n",
    " #       print('Epoch {:.0f}/{:.0f} : Training loss: {:.4f} | Training Accuracy: {:.4f}'.format(epoch+1,num_epochs,epoch_loss,epoch_acc*100))              \n",
    "    return net,epoch_loss,epoch_acc\n",
    "    \n"
   ]
  },
  {
   "cell_type": "code",
   "execution_count": 8,
   "metadata": {},
   "outputs": [],
   "source": [
    "def prediction(net,test_dataloader):\n",
    "    correct_pred = 0\n",
    "    for data in test_dataloader:\n",
    "        inputs,labels = data\n",
    "        if gpu:\n",
    "            inputs, labels = inputs.cuda(),labels.cuda()\n",
    "    # Feedforward train data batch through model\n",
    "        output = net(inputs) \n",
    "    # Predicted class is the one with maximum probability\n",
    "        preds = torch.argmax(output,dim=1)\n",
    "        correct_pred += torch.sum(preds==labels)\n",
    "\n",
    "    test_accuracy = correct_pred.item()/10000.0\n",
    "    return test_accuracy"
   ]
  },
  {
   "cell_type": "code",
   "execution_count": 9,
   "metadata": {},
   "outputs": [],
   "source": [
    "#control \n",
    "epoch=10"
   ]
  },
  {
   "cell_type": "code",
   "execution_count": 10,
   "metadata": {},
   "outputs": [
    {
     "name": "stdout",
     "output_type": "stream",
     "text": [
      "Learning Rate: 1.0000 |,Training loss: 2.3116 | Training Accuracy: 10.3083\n",
      "Testing accuracy Using SGD: 9.7400\n",
      "Learning Rate: 0.6000 |,Training loss: 2.3059 | Training Accuracy: 10.5350\n",
      "Testing accuracy Using SGD: 11.3500\n",
      "Learning Rate: 0.3000 |,Training loss: 2.3033 | Training Accuracy: 10.8333\n",
      "Testing accuracy Using SGD: 11.3500\n",
      "Learning Rate: 0.1000 |,Training loss: 0.0419 | Training Accuracy: 98.6783\n",
      "Testing accuracy Using SGD: 98.1000\n",
      "Learning Rate: 0.0600 |,Training loss: 0.0281 | Training Accuracy: 99.0717\n",
      "Testing accuracy Using SGD: 98.6300\n",
      "Learning Rate: 0.0300 |,Training loss: 0.0239 | Training Accuracy: 99.1933\n",
      "Testing accuracy Using SGD: 99.0000\n",
      "Learning Rate: 0.0100 |,Training loss: 0.0405 | Training Accuracy: 98.7200\n",
      "Testing accuracy Using SGD: 98.6100\n",
      "Learning Rate: 0.0060 |,Training loss: 0.0651 | Training Accuracy: 97.9767\n",
      "Testing accuracy Using SGD: 98.3000\n",
      "Learning Rate: 0.0030 |,Training loss: 0.0902 | Training Accuracy: 97.2833\n",
      "Testing accuracy Using SGD: 97.3000\n",
      "Learning Rate: 0.0010 |,Training loss: 0.2635 | Training Accuracy: 92.0450\n",
      "Testing accuracy Using SGD: 93.3200\n"
     ]
    }
   ],
   "source": [
    "Learning_rates=[1,0.6,0.3,0.1,0.06,0.03,0.010,0.006,0.003,0.001]\n",
    "#Learning_rates=[0.3,0.1,0.06]\n",
    "train_loss=[]\n",
    "train_acc=[]\n",
    "test_accuracy=[]\n",
    "for i in Learning_rates:\n",
    "    train_dataloader,test_dataloader=data(256)\n",
    "    net,training_loss,training_acc=Mynet_Adam(train_dataloader,i,epochs=epoch,Batch_size=256)\n",
    "    print('Learning Rate: {:.4f} |,Training loss: {:.4f} | Training Accuracy: {:.4f}'.format(i,training_loss,training_acc*100))\n",
    "    train_loss.append(training_loss)\n",
    "    train_acc.append(training_acc)\n",
    "    test_acc=prediction(net,test_dataloader)\n",
    "    test_accuracy.append(test_acc)\n",
    "    print('Testing accuracy Using SGD: {:.4f}'.format(test_acc*100))\n",
    "    "
   ]
  },
  {
   "cell_type": "code",
   "execution_count": 11,
   "metadata": {},
   "outputs": [
    {
     "data": {
      "text/plain": [
       "Text(0, 0.5, 'Accuracy')"
      ]
     },
     "execution_count": 11,
     "metadata": {},
     "output_type": "execute_result"
    },
    {
     "data": {
      "image/png": "[encoded data removed]",
      "text/plain": [
       "<Figure size 1080x360 with 2 Axes>"
      ]
     },
     "metadata": {
      "needs_background": "light"
     },
     "output_type": "display_data"
    }
   ],
   "source": [
    "fig = plt.figure(figsize=[15,5]) \n",
    "plt.subplot(121)\n",
    "plt.plot(Learning_rates,train_loss,'r-',label='Training_Loss') \n",
    "plt.legend(loc='upper right')\n",
    "plt.xlabel('Learning Rate')\n",
    "plt.ylabel('Training Loss')\n",
    "plt.subplot(122)\n",
    "plt.plot(Learning_rates,train_acc,'g-',label='Train_Accuracy') \n",
    "plt.plot(Learning_rates,test_accuracy,'b-',label='Test_Accuracy')\n",
    "plt.legend(loc='upper right')\n",
    "plt.xlabel('Learning Rate')\n",
    "plt.ylabel('Accuracy')"
   ]
  },
  {
   "cell_type": "code",
   "execution_count": 14,
   "metadata": {},
   "outputs": [
    {
     "name": "stdout",
     "output_type": "stream",
     "text": [
      "Batch: 16.0000 |,Training loss: 0.0189 | Training Accuracy: 99.4167\n",
      "Testing accuracy Using SGD: 98.9600\n",
      "Batch: 32.0000 |,Training loss: 0.0169 | Training Accuracy: 99.4367\n",
      "Testing accuracy Using SGD: 99.1000\n",
      "Batch: 64.0000 |,Training loss: 0.0196 | Training Accuracy: 99.3283\n",
      "Testing accuracy Using SGD: 98.9700\n",
      "Batch: 128.0000 |,Training loss: 0.0252 | Training Accuracy: 99.1917\n",
      "Testing accuracy Using SGD: 98.9300\n",
      "Batch: 256.0000 |,Training loss: 0.0399 | Training Accuracy: 98.7367\n",
      "Testing accuracy Using SGD: 98.5200\n",
      "Batch: 512.0000 |,Training loss: 0.0698 | Training Accuracy: 97.8483\n",
      "Testing accuracy Using SGD: 98.2600\n",
      "Batch: 1024.0000 |,Training loss: 0.1069 | Training Accuracy: 96.7200\n",
      "Testing accuracy Using SGD: 96.9900\n"
     ]
    }
   ],
   "source": [
    "Batches=[16,32,64,128,256,512,1024]\n",
    "#Batches=[64,128,256]\n",
    "train_loss=[]\n",
    "train_acc=[]\n",
    "test_accuracy=[]\n",
    "for i in Batches:\n",
    "    train_dataloader,test_dataloader=data(i)\n",
    "    net,training_loss,training_acc=Mynet_Adam(train_dataloader,0.01,Batch_size=i,epochs=epoch)\n",
    "    print('Batch: {:.4f} |,Training loss: {:.4f} | Training Accuracy: {:.4f}'.format(i,training_loss,training_acc*100))\n",
    "    train_loss.append(training_loss)\n",
    "    train_acc.append(training_acc)\n",
    "    test_acc=prediction(net,test_dataloader)\n",
    "    test_accuracy.append(test_acc)\n",
    "    print('Testing accuracy Using SGD: {:.4f}'.format(test_acc*100))"
   ]
  },
  {
   "cell_type": "code",
   "execution_count": 15,
   "metadata": {},
   "outputs": [
    {
     "data": {
      "text/plain": [
       "Text(0, 0.5, 'Accuracy')"
      ]
     },
     "execution_count": 15,
     "metadata": {},
     "output_type": "execute_result"
    },
    {
     "data": {
      "image/png": "[encoded data removed]",
      "text/plain": [
       "<Figure size 1080x360 with 2 Axes>"
      ]
     },
     "metadata": {
      "needs_background": "light"
     },
     "output_type": "display_data"
    }
   ],
   "source": [
    "fig = plt.figure(figsize=[15,5]) \n",
    "plt.subplot(121)\n",
    "plt.plot(Batches,train_loss,'r-',label='Training_Loss') \n",
    "plt.legend(loc='upper right')\n",
    "plt.xlabel('Batches')\n",
    "plt.ylabel('Training Loss')\n",
    "plt.subplot(122)\n",
    "plt.plot(Batches,train_acc,'g-',label='Train_Accuracy') \n",
    "plt.plot(Batches,test_accuracy,'b-',label='Test_Accuracy')\n",
    "plt.legend(loc='upper right')\n",
    "plt.xlabel('Batches')\n",
    "plt.ylabel('Accuracy')"
   ]
  },
  {
   "cell_type": "code",
   "execution_count": null,
   "metadata": {},
   "outputs": [],
   "source": []
  }
 ],
 "metadata": {
  "kernelspec": {
   "display_name": "Python 3",
   "language": "python",
   "name": "python3"
  },
  "language_info": {
   "codemirror_mode": {
    "name": "ipython",
    "version": 3
   },
   "file_extension": ".py",
   "mimetype": "text/x-python",
   "name": "python",
   "nbconvert_exporter": "python",
   "pygments_lexer": "ipython3",
   "version": "3.8.5"
  }
 },
 "nbformat": 4,
 "nbformat_minor": 2
}
